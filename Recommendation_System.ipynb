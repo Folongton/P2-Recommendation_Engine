{
 "cells": [
  {
   "cell_type": "code",
   "execution_count": 1,
   "metadata": {},
   "outputs": [],
   "source": [
    "import pandas as pd\n",
    "import numpy as np"
   ]
  },
  {
   "attachments": {},
   "cell_type": "markdown",
   "metadata": {},
   "source": [
    "#### Loading and Cleaning Data"
   ]
  },
  {
   "cell_type": "code",
   "execution_count": 12,
   "metadata": {},
   "outputs": [],
   "source": [
    "df = pd.read_csv('recom.csv')"
   ]
  },
  {
   "cell_type": "code",
   "execution_count": 7,
   "metadata": {},
   "outputs": [
    {
     "data": {
      "text/plain": [
       "(50000, 7)"
      ]
     },
     "execution_count": 7,
     "metadata": {},
     "output_type": "execute_result"
    }
   ],
   "source": [
    "df.shape"
   ]
  },
  {
   "cell_type": "code",
   "execution_count": 3,
   "metadata": {},
   "outputs": [
    {
     "data": {
      "text/html": [
       "<div>\n",
       "<style scoped>\n",
       "    .dataframe tbody tr th:only-of-type {\n",
       "        vertical-align: middle;\n",
       "    }\n",
       "\n",
       "    .dataframe tbody tr th {\n",
       "        vertical-align: top;\n",
       "    }\n",
       "\n",
       "    .dataframe thead th {\n",
       "        text-align: right;\n",
       "    }\n",
       "</style>\n",
       "<table border=\"1\" class=\"dataframe\">\n",
       "  <thead>\n",
       "    <tr style=\"text-align: right;\">\n",
       "      <th></th>\n",
       "      <th>Unnamed: 0</th>\n",
       "      <th>Main_ID</th>\n",
       "      <th>Transaction_ID</th>\n",
       "      <th>Date</th>\n",
       "      <th>Price</th>\n",
       "      <th>Code_Product</th>\n",
       "      <th>Amount</th>\n",
       "      <th>ItemKey</th>\n",
       "    </tr>\n",
       "  </thead>\n",
       "  <tbody>\n",
       "    <tr>\n",
       "      <th>0</th>\n",
       "      <td>0</td>\n",
       "      <td>90fada91</td>\n",
       "      <td>264f7a69</td>\n",
       "      <td>2022-10-07 20:53:49.153</td>\n",
       "      <td>125.0</td>\n",
       "      <td>5002.0</td>\n",
       "      <td>1.0</td>\n",
       "      <td>5002.0</td>\n",
       "    </tr>\n",
       "    <tr>\n",
       "      <th>1</th>\n",
       "      <td>1</td>\n",
       "      <td>9006f9ac</td>\n",
       "      <td>45c7d853</td>\n",
       "      <td>2022-09-17 15:54:57.187</td>\n",
       "      <td>19.0</td>\n",
       "      <td>35012.0</td>\n",
       "      <td>1.0</td>\n",
       "      <td>NaN</td>\n",
       "    </tr>\n",
       "    <tr>\n",
       "      <th>2</th>\n",
       "      <td>2</td>\n",
       "      <td>32270891</td>\n",
       "      <td>61ad76dd</td>\n",
       "      <td>2022-11-28 13:51:55.667</td>\n",
       "      <td>141.0</td>\n",
       "      <td>5005.0</td>\n",
       "      <td>1.0</td>\n",
       "      <td>5005.0</td>\n",
       "    </tr>\n",
       "    <tr>\n",
       "      <th>3</th>\n",
       "      <td>3</td>\n",
       "      <td>97e03e47</td>\n",
       "      <td>41ee09f6</td>\n",
       "      <td>2022-09-12 16:20:22.110</td>\n",
       "      <td>4.5</td>\n",
       "      <td>35078.5</td>\n",
       "      <td>1.0</td>\n",
       "      <td>NaN</td>\n",
       "    </tr>\n",
       "    <tr>\n",
       "      <th>4</th>\n",
       "      <td>4</td>\n",
       "      <td>41949228</td>\n",
       "      <td>244fe6d8</td>\n",
       "      <td>2022-10-14 18:53:43.933</td>\n",
       "      <td>129.5</td>\n",
       "      <td>49291.5</td>\n",
       "      <td>5.0</td>\n",
       "      <td>NaN</td>\n",
       "    </tr>\n",
       "  </tbody>\n",
       "</table>\n",
       "</div>"
      ],
      "text/plain": [
       "   Unnamed: 0   Main_ID Transaction_ID                     Date  Price  \\\n",
       "0           0  90fada91       264f7a69  2022-10-07 20:53:49.153  125.0   \n",
       "1           1  9006f9ac       45c7d853  2022-09-17 15:54:57.187   19.0   \n",
       "2           2  32270891       61ad76dd  2022-11-28 13:51:55.667  141.0   \n",
       "3           3  97e03e47       41ee09f6  2022-09-12 16:20:22.110    4.5   \n",
       "4           4  41949228       244fe6d8  2022-10-14 18:53:43.933  129.5   \n",
       "\n",
       "   Code_Product  Amount  ItemKey  \n",
       "0        5002.0     1.0   5002.0  \n",
       "1       35012.0     1.0      NaN  \n",
       "2        5005.0     1.0   5005.0  \n",
       "3       35078.5     1.0      NaN  \n",
       "4       49291.5     5.0      NaN  "
      ]
     },
     "execution_count": 3,
     "metadata": {},
     "output_type": "execute_result"
    }
   ],
   "source": [
    "df. head()"
   ]
  },
  {
   "cell_type": "code",
   "execution_count": 13,
   "metadata": {},
   "outputs": [],
   "source": [
    "# Dropping  Unnamed: 0  column\n",
    "df.drop('Unnamed: 0', axis=1, inplace=True)"
   ]
  },
  {
   "cell_type": "code",
   "execution_count": 8,
   "metadata": {},
   "outputs": [
    {
     "data": {
      "text/html": [
       "<div>\n",
       "<style scoped>\n",
       "    .dataframe tbody tr th:only-of-type {\n",
       "        vertical-align: middle;\n",
       "    }\n",
       "\n",
       "    .dataframe tbody tr th {\n",
       "        vertical-align: top;\n",
       "    }\n",
       "\n",
       "    .dataframe thead th {\n",
       "        text-align: right;\n",
       "    }\n",
       "</style>\n",
       "<table border=\"1\" class=\"dataframe\">\n",
       "  <thead>\n",
       "    <tr style=\"text-align: right;\">\n",
       "      <th></th>\n",
       "      <th>Main_ID</th>\n",
       "      <th>Transaction_ID</th>\n",
       "      <th>Date</th>\n",
       "      <th>Price</th>\n",
       "      <th>Code_Product</th>\n",
       "      <th>Amount</th>\n",
       "      <th>ItemKey</th>\n",
       "    </tr>\n",
       "  </thead>\n",
       "  <tbody>\n",
       "  </tbody>\n",
       "</table>\n",
       "</div>"
      ],
      "text/plain": [
       "Empty DataFrame\n",
       "Columns: [Main_ID, Transaction_ID, Date, Price, Code_Product, Amount, ItemKey]\n",
       "Index: []"
      ]
     },
     "execution_count": 8,
     "metadata": {},
     "output_type": "execute_result"
    }
   ],
   "source": [
    "# Check if not null ItemKey = Code_product\n",
    "df[df['ItemKey'].notnull()].loc[df['ItemKey'] != df['Code_Product']]"
   ]
  },
  {
   "attachments": {},
   "cell_type": "markdown",
   "metadata": {},
   "source": [
    "* we can see from above cell that ItemKey =  Code_roduct, so we can drop ItemKey column as it has nulls."
   ]
  },
  {
   "cell_type": "code",
   "execution_count": 15,
   "metadata": {},
   "outputs": [],
   "source": [
    "df = df.drop('ItemKey', axis=1)"
   ]
  },
  {
   "cell_type": "code",
   "execution_count": 18,
   "metadata": {},
   "outputs": [
    {
     "name": "stdout",
     "output_type": "stream",
     "text": [
      "<class 'pandas.core.frame.DataFrame'>\n",
      "RangeIndex: 50000 entries, 0 to 49999\n",
      "Data columns (total 6 columns):\n",
      " #   Column          Non-Null Count  Dtype  \n",
      "---  ------          --------------  -----  \n",
      " 0   Main_ID         50000 non-null  object \n",
      " 1   Transaction_ID  50000 non-null  object \n",
      " 2   Date            50000 non-null  object \n",
      " 3   Price           50000 non-null  float64\n",
      " 4   Code_Product    50000 non-null  float64\n",
      " 5   Amount          50000 non-null  float64\n",
      "dtypes: float64(3), object(3)\n",
      "memory usage: 2.3+ MB\n"
     ]
    }
   ],
   "source": [
    "# Check for null values and data types\n",
    "df.info()"
   ]
  },
  {
   "attachments": {},
   "cell_type": "markdown",
   "metadata": {},
   "source": [
    "* Now all data clean and we can start with recommendation system."
   ]
  },
  {
   "attachments": {},
   "cell_type": "markdown",
   "metadata": {},
   "source": [
    "### Simple Item-Based Recommender\n",
    "* Here we will use Correlation coeficient to find similar products.\n",
    "1. Dropping unnecessary columns.\n",
    "2. Creating rating for each product per user.\n",
    "3. Creating correlation matrix for each product.\n",
    "4. Creating a function to find similar products."
   ]
  },
  {
   "attachments": {},
   "cell_type": "markdown",
   "metadata": {},
   "source": [
    "#### Creating rating for each product per user."
   ]
  },
  {
   "cell_type": "code",
   "execution_count": 19,
   "metadata": {},
   "outputs": [
    {
     "data": {
      "text/html": [
       "<div>\n",
       "<style scoped>\n",
       "    .dataframe tbody tr th:only-of-type {\n",
       "        vertical-align: middle;\n",
       "    }\n",
       "\n",
       "    .dataframe tbody tr th {\n",
       "        vertical-align: top;\n",
       "    }\n",
       "\n",
       "    .dataframe thead th {\n",
       "        text-align: right;\n",
       "    }\n",
       "</style>\n",
       "<table border=\"1\" class=\"dataframe\">\n",
       "  <thead>\n",
       "    <tr style=\"text-align: right;\">\n",
       "      <th></th>\n",
       "      <th>Main_ID</th>\n",
       "      <th>Transaction_ID</th>\n",
       "      <th>Date</th>\n",
       "      <th>Price</th>\n",
       "      <th>Code_Product</th>\n",
       "      <th>Amount</th>\n",
       "    </tr>\n",
       "  </thead>\n",
       "  <tbody>\n",
       "    <tr>\n",
       "      <th>0</th>\n",
       "      <td>90fada91</td>\n",
       "      <td>264f7a69</td>\n",
       "      <td>2022-10-07 20:53:49.153</td>\n",
       "      <td>125.0</td>\n",
       "      <td>5002.0</td>\n",
       "      <td>1.0</td>\n",
       "    </tr>\n",
       "    <tr>\n",
       "      <th>1</th>\n",
       "      <td>9006f9ac</td>\n",
       "      <td>45c7d853</td>\n",
       "      <td>2022-09-17 15:54:57.187</td>\n",
       "      <td>19.0</td>\n",
       "      <td>35012.0</td>\n",
       "      <td>1.0</td>\n",
       "    </tr>\n",
       "    <tr>\n",
       "      <th>2</th>\n",
       "      <td>32270891</td>\n",
       "      <td>61ad76dd</td>\n",
       "      <td>2022-11-28 13:51:55.667</td>\n",
       "      <td>141.0</td>\n",
       "      <td>5005.0</td>\n",
       "      <td>1.0</td>\n",
       "    </tr>\n",
       "    <tr>\n",
       "      <th>3</th>\n",
       "      <td>97e03e47</td>\n",
       "      <td>41ee09f6</td>\n",
       "      <td>2022-09-12 16:20:22.110</td>\n",
       "      <td>4.5</td>\n",
       "      <td>35078.5</td>\n",
       "      <td>1.0</td>\n",
       "    </tr>\n",
       "    <tr>\n",
       "      <th>4</th>\n",
       "      <td>41949228</td>\n",
       "      <td>244fe6d8</td>\n",
       "      <td>2022-10-14 18:53:43.933</td>\n",
       "      <td>129.5</td>\n",
       "      <td>49291.5</td>\n",
       "      <td>5.0</td>\n",
       "    </tr>\n",
       "  </tbody>\n",
       "</table>\n",
       "</div>"
      ],
      "text/plain": [
       "    Main_ID Transaction_ID                     Date  Price  Code_Product  \\\n",
       "0  90fada91       264f7a69  2022-10-07 20:53:49.153  125.0        5002.0   \n",
       "1  9006f9ac       45c7d853  2022-09-17 15:54:57.187   19.0       35012.0   \n",
       "2  32270891       61ad76dd  2022-11-28 13:51:55.667  141.0        5005.0   \n",
       "3  97e03e47       41ee09f6  2022-09-12 16:20:22.110    4.5       35078.5   \n",
       "4  41949228       244fe6d8  2022-10-14 18:53:43.933  129.5       49291.5   \n",
       "\n",
       "   Amount  \n",
       "0     1.0  \n",
       "1     1.0  \n",
       "2     1.0  \n",
       "3     1.0  \n",
       "4     5.0  "
      ]
     },
     "execution_count": 19,
     "metadata": {},
     "output_type": "execute_result"
    }
   ],
   "source": [
    "df.head()"
   ]
  },
  {
   "cell_type": "code",
   "execution_count": 35,
   "metadata": {},
   "outputs": [
    {
     "name": "stdout",
     "output_type": "stream",
     "text": [
      "[ 1.  2.  3.  4.  5.  6.  7.  8.  9. 10. 12. 13. 14. 16. 17. 18. 19. 20.\n",
      " 28. 33. 41. 54.]\n"
     ]
    }
   ],
   "source": [
    "s = df['Amount'].unique()\n",
    "s.sort()\n",
    "print(s)"
   ]
  },
  {
   "attachments": {},
   "cell_type": "markdown",
   "metadata": {},
   "source": [
    "* We will use Amount column as rating for each product per user. And leave only Main_ID (user), Code_Product (product) and Amount (rating) columns."
   ]
  },
  {
   "cell_type": "code",
   "execution_count": 49,
   "metadata": {},
   "outputs": [],
   "source": [
    "df_simple_rec = df.drop(columns=['Transaction_ID', 'Date', 'Price'])"
   ]
  },
  {
   "cell_type": "code",
   "execution_count": 50,
   "metadata": {},
   "outputs": [],
   "source": [
    "df_simple_rec['Amount'] = df_simple_rec['Amount'].astype(int)"
   ]
  },
  {
   "attachments": {},
   "cell_type": "markdown",
   "metadata": {},
   "source": [
    "* Checking if we have the same product for each user in different Transactions to see if we need to aggregate Amount column."
   ]
  },
  {
   "cell_type": "code",
   "execution_count": 59,
   "metadata": {},
   "outputs": [
    {
     "data": {
      "text/plain": [
       "False"
      ]
     },
     "execution_count": 59,
     "metadata": {},
     "output_type": "execute_result"
    }
   ],
   "source": [
    "df_simple_rec.shape[0] == df_simple_rec.groupby(['Main_ID', 'Code_Product']).size().shape[0]"
   ]
  },
  {
   "attachments": {},
   "cell_type": "markdown",
   "metadata": {},
   "source": [
    "* So, we do have the same product for each user in different Transactions, so we need to aggregate Amount column."
   ]
  },
  {
   "cell_type": "code",
   "execution_count": 67,
   "metadata": {},
   "outputs": [],
   "source": [
    "df_simple_rec = df_simple_rec.groupby(['Main_ID', 'Code_Product']).sum().reset_index()"
   ]
  },
  {
   "cell_type": "code",
   "execution_count": 69,
   "metadata": {},
   "outputs": [
    {
     "data": {
      "text/html": [
       "<div>\n",
       "<style scoped>\n",
       "    .dataframe tbody tr th:only-of-type {\n",
       "        vertical-align: middle;\n",
       "    }\n",
       "\n",
       "    .dataframe tbody tr th {\n",
       "        vertical-align: top;\n",
       "    }\n",
       "\n",
       "    .dataframe thead th {\n",
       "        text-align: right;\n",
       "    }\n",
       "</style>\n",
       "<table border=\"1\" class=\"dataframe\">\n",
       "  <thead>\n",
       "    <tr style=\"text-align: right;\">\n",
       "      <th></th>\n",
       "      <th>user_id</th>\n",
       "      <th>item_id</th>\n",
       "      <th>rating</th>\n",
       "    </tr>\n",
       "  </thead>\n",
       "  <tbody>\n",
       "    <tr>\n",
       "      <th>0</th>\n",
       "      <td>00024de6</td>\n",
       "      <td>35097.0</td>\n",
       "      <td>2</td>\n",
       "    </tr>\n",
       "    <tr>\n",
       "      <th>1</th>\n",
       "      <td>00084856</td>\n",
       "      <td>49291.5</td>\n",
       "      <td>1</td>\n",
       "    </tr>\n",
       "    <tr>\n",
       "      <th>2</th>\n",
       "      <td>00084856</td>\n",
       "      <td>49292.0</td>\n",
       "      <td>1</td>\n",
       "    </tr>\n",
       "    <tr>\n",
       "      <th>3</th>\n",
       "      <td>0008e848</td>\n",
       "      <td>40002.0</td>\n",
       "      <td>1</td>\n",
       "    </tr>\n",
       "    <tr>\n",
       "      <th>4</th>\n",
       "      <td>00096930</td>\n",
       "      <td>49291.5</td>\n",
       "      <td>2</td>\n",
       "    </tr>\n",
       "  </tbody>\n",
       "</table>\n",
       "</div>"
      ],
      "text/plain": [
       "    user_id  item_id  rating\n",
       "0  00024de6  35097.0       2\n",
       "1  00084856  49291.5       1\n",
       "2  00084856  49292.0       1\n",
       "3  0008e848  40002.0       1\n",
       "4  00096930  49291.5       2"
      ]
     },
     "execution_count": 69,
     "metadata": {},
     "output_type": "execute_result"
    }
   ],
   "source": [
    "df_simple_rec.head()"
   ]
  },
  {
   "cell_type": "code",
   "execution_count": 68,
   "metadata": {},
   "outputs": [],
   "source": [
    "# renaming columns\n",
    "df_simple_rec.rename(columns={'Main_ID': 'user_id', 'Code_Product': 'item_id', 'Amount': 'rating'}, inplace=True)"
   ]
  },
  {
   "attachments": {},
   "cell_type": "markdown",
   "metadata": {},
   "source": [
    "#### Creating correlation matrix for each product."
   ]
  },
  {
   "cell_type": "code",
   "execution_count": 72,
   "metadata": {},
   "outputs": [],
   "source": [
    "df_CM_simple_rec = pd.pivot_table(df_simple_rec, index='user_id', columns='item_id', values='rating').corr()"
   ]
  },
  {
   "attachments": {},
   "cell_type": "markdown",
   "metadata": {},
   "source": [
    "* Now we can see what products are similar to each other and if user like product 5007.0, we can see what else we can reccomend to him - 5001.5, 5017.0,5001.0. If we set arbitrary treshhold to coefficient 0 (line where negative correlation begins)"
   ]
  },
  {
   "cell_type": "code",
   "execution_count": 90,
   "metadata": {},
   "outputs": [
    {
     "data": {
      "text/plain": [
       "item_id\n",
       "5001.5    1.000000\n",
       "5007.0    1.000000\n",
       "5017.0    1.000000\n",
       "5001.0    0.174078\n",
       "Name: 5007.0, dtype: float64"
      ]
     },
     "execution_count": 90,
     "metadata": {},
     "output_type": "execute_result"
    }
   ],
   "source": [
    "single_prod_corr = df_CM_simple_rec[5007.0].sort_values(ascending=False)\n",
    "single_prod_corr.loc[single_prod_corr.values > 0]"
   ]
  },
  {
   "attachments": {},
   "cell_type": "markdown",
   "metadata": {},
   "source": [
    "* Finding similar products to all users in our dataset."
   ]
  },
  {
   "cell_type": "code",
   "execution_count": 159,
   "metadata": {},
   "outputs": [],
   "source": [
    "rec_dict = {'user_id':[],\n",
    "            'purchased_item_id':[],\n",
    "            'reccomended_item':[],\n",
    "            'correlations_coeff':[]}\n",
    "\n",
    "for g in df_simple_rec.groupby('user_id'):\n",
    "    for i in g[1]['item_id']:\n",
    "        single_prod_corr = df_CM_simple_rec[i].sort_values(ascending=False)\n",
    "        positive_single_prod_corr = single_prod_corr.loc[single_prod_corr.values > 0]\n",
    "\n",
    "        for j in positive_single_prod_corr.index:\n",
    "            rec_dict['user_id'].append(g[0])\n",
    "            rec_dict['purchased_item_id'].append(i)\n",
    "            rec_dict['reccomended_item'].append(j)\n",
    "            rec_dict['correlations_coeff'].append(positive_single_prod_corr[j])\n",
    "\n",
    "\n",
    "df_simpl_rec_final = pd.DataFrame(rec_dict)\n",
    "df_simpl_rec_final['correlations_coeff'] = df_simpl_rec_final['correlations_coeff'].apply(lambda x: round(x, 2))\n",
    "df_simpl_rec_final.index = pd.MultiIndex.from_arrays([df_simpl_rec_final['user_id'], \n",
    "                                                    df_simpl_rec_final['purchased_item_id'],\n",
    "                                                    df_simpl_rec_final['reccomended_item']])\n",
    "df_simpl_rec_final.drop(columns=['user_id','purchased_item_id','reccomended_item'], inplace=True)"
   ]
  },
  {
   "attachments": {},
   "cell_type": "markdown",
   "metadata": {},
   "source": [
    "* Now we have a data frame with all users, purchsed item and items to reccomend to them. Let's try for user '00084856' and his purchased item '49291.5'. "
   ]
  },
  {
   "cell_type": "code",
   "execution_count": 167,
   "metadata": {},
   "outputs": [
    {
     "data": {
      "text/html": [
       "<div>\n",
       "<style scoped>\n",
       "    .dataframe tbody tr th:only-of-type {\n",
       "        vertical-align: middle;\n",
       "    }\n",
       "\n",
       "    .dataframe tbody tr th {\n",
       "        vertical-align: top;\n",
       "    }\n",
       "\n",
       "    .dataframe thead th {\n",
       "        text-align: right;\n",
       "    }\n",
       "</style>\n",
       "<table border=\"1\" class=\"dataframe\">\n",
       "  <thead>\n",
       "    <tr style=\"text-align: right;\">\n",
       "      <th></th>\n",
       "      <th>correlations_coeff</th>\n",
       "    </tr>\n",
       "    <tr>\n",
       "      <th>reccomended_item</th>\n",
       "      <th></th>\n",
       "    </tr>\n",
       "  </thead>\n",
       "  <tbody>\n",
       "    <tr>\n",
       "      <th>49291.5</th>\n",
       "      <td>1.00</td>\n",
       "    </tr>\n",
       "    <tr>\n",
       "      <th>35006.5</th>\n",
       "      <td>1.00</td>\n",
       "    </tr>\n",
       "    <tr>\n",
       "      <th>45013.5</th>\n",
       "      <td>1.00</td>\n",
       "    </tr>\n",
       "    <tr>\n",
       "      <th>35071.5</th>\n",
       "      <td>1.00</td>\n",
       "    </tr>\n",
       "    <tr>\n",
       "      <th>15022.5</th>\n",
       "      <td>1.00</td>\n",
       "    </tr>\n",
       "    <tr>\n",
       "      <th>40003.0</th>\n",
       "      <td>0.94</td>\n",
       "    </tr>\n",
       "    <tr>\n",
       "      <th>40075.0</th>\n",
       "      <td>0.87</td>\n",
       "    </tr>\n",
       "    <tr>\n",
       "      <th>5005.0</th>\n",
       "      <td>0.83</td>\n",
       "    </tr>\n",
       "    <tr>\n",
       "      <th>10031.0</th>\n",
       "      <td>0.76</td>\n",
       "    </tr>\n",
       "    <tr>\n",
       "      <th>35042.5</th>\n",
       "      <td>0.76</td>\n",
       "    </tr>\n",
       "  </tbody>\n",
       "</table>\n",
       "</div>"
      ],
      "text/plain": [
       "                  correlations_coeff\n",
       "reccomended_item                    \n",
       "49291.5                         1.00\n",
       "35006.5                         1.00\n",
       "45013.5                         1.00\n",
       "35071.5                         1.00\n",
       "15022.5                         1.00\n",
       "40003.0                         0.94\n",
       "40075.0                         0.87\n",
       "5005.0                          0.83\n",
       "10031.0                         0.76\n",
       "35042.5                         0.76"
      ]
     },
     "execution_count": 167,
     "metadata": {},
     "output_type": "execute_result"
    }
   ],
   "source": [
    "df_simpl_rec_final.loc[('00084856','49291.5')].head(10)"
   ]
  },
  {
   "cell_type": "markdown",
   "metadata": {},
   "source": []
  }
 ],
 "metadata": {
  "kernelspec": {
   "display_name": ".venv",
   "language": "python",
   "name": "python3"
  },
  "language_info": {
   "codemirror_mode": {
    "name": "ipython",
    "version": 3
   },
   "file_extension": ".py",
   "mimetype": "text/x-python",
   "name": "python",
   "nbconvert_exporter": "python",
   "pygments_lexer": "ipython3",
   "version": "3.9.2"
  },
  "orig_nbformat": 4,
  "vscode": {
   "interpreter": {
    "hash": "c7c9081c8a6fd8c24fc3e09ee34eb063b57825656f94109b8ab2dc7b5880b344"
   }
  }
 },
 "nbformat": 4,
 "nbformat_minor": 2
}
